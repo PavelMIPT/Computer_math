{
 "cells": [
  {
   "cell_type": "code",
   "execution_count": 21,
   "metadata": {},
   "outputs": [
    {
     "data": {
      "text/latex": [
       "$$\n",
       "Вычислительная \\ математика \\ 1 \\ задание \\ (Кривенко \\ Павел \\ Б03-103)\n",
       "$$\n"
      ],
      "text/plain": [
       "<IPython.core.display.Latex object>"
      ]
     },
     "metadata": {},
     "output_type": "display_data"
    }
   ],
   "source": [
    "%%latex\n",
    "$$\n",
    "Вычислительная \\ математика \\ 1 \\ задание \\ (Кривенко \\ Павел \\ Б03-103)\n",
    "$$"
   ]
  },
  {
   "cell_type": "code",
   "execution_count": 38,
   "metadata": {},
   "outputs": [
    {
     "data": {
      "text/latex": [
       "$$\n",
       "Задача \\ 4.12.8 \\ б)\n",
       "\\\\\n",
       "Методом \\ простой \\ итерации \\ найти \\ ширину \\ функции \\ на \\ полувысоте \\ с \\ точностью \\ 10^-3 \\ \n",
       "\\\\ f(x) = x * exp(-x^2), x >= 0\n",
       "$$\n"
      ],
      "text/plain": [
       "<IPython.core.display.Latex object>"
      ]
     },
     "metadata": {},
     "output_type": "display_data"
    }
   ],
   "source": [
    "%%latex\n",
    "$$\n",
    "Задача \\ 4.12.8 \\ б)\n",
    "\\\\\n",
    "Методом \\ простой \\ итерации \\ найти \\ ширину \\ функции \\ на \\ полувысоте \\ с \\ точностью \\ 10^-3 \\ \n",
    "\\\\ f(x) = x * exp(-x^2), x >= 0\n",
    "$$"
   ]
  },
  {
   "cell_type": "code",
   "execution_count": 50,
   "metadata": {},
   "outputs": [
    {
     "data": {
      "text/latex": [
       "$$\n",
       "Решение:\n",
       "1) \\ Найдём \\ максимальное \\ значение \\ функции: \\ f`(x) = exp(-x^2) + x * exp(-x^2) * (-2x) = \n",
       "exp(-x^2) * (1 - 2x^2), обращается \\ в \\ нуль \\ при \\ x = \\frac{\\sqrt{2}}{2}, при \\ этом \\ максимальное \\\n",
       "значение \\ функции: уmax = \\sqrt{\\frac{1}{2e}}\n",
       "\n",
       "$$\n"
      ],
      "text/plain": [
       "<IPython.core.display.Latex object>"
      ]
     },
     "metadata": {},
     "output_type": "display_data"
    }
   ],
   "source": [
    "%%latex\n",
    "$$\n",
    "Решение:\n",
    "1) \\ Найдём \\ максимальное \\ значение \\ функции: \\ f`(x) = exp(-x^2) + x * exp(-x^2) * (-2x) = \n",
    "exp(-x^2) * (1 - 2x^2), обращается \\ в \\ нуль \\ при \\ x = \\frac{\\sqrt{2}}{2}, при \\ этом \\ максимальное \\\n",
    "значение \\ функции: уmax = \\sqrt{\\frac{1}{2e}}\n",
    "\n",
    "$$"
   ]
  }
 ],
 "metadata": {
  "kernelspec": {
   "display_name": "Python 3",
   "language": "python",
   "name": "python3"
  },
  "language_info": {
   "codemirror_mode": {
    "name": "ipython",
    "version": 3
   },
   "file_extension": ".py",
   "mimetype": "text/x-python",
   "name": "python",
   "nbconvert_exporter": "python",
   "pygments_lexer": "ipython3",
   "version": "3.7.3"
  }
 },
 "nbformat": 4,
 "nbformat_minor": 2
}
